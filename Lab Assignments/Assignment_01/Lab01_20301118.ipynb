{
  "cells": [
    {
      "cell_type": "code",
      "execution_count": 1,
      "metadata": {
        "colab": {
          "base_uri": "https://localhost:8080/"
        },
        "id": "o-g26DC6GhBh",
        "outputId": "00957c7e-0480-460a-ae13-e5922a3db5c8"
      },
      "outputs": [
        {
          "name": "stdout",
          "output_type": "stream",
          "text": [
            "source Before rotateLeft: \n",
            "[10, 20, 30, 40, 50, 60]\n",
            "\n",
            "source after rotateLeft: \n",
            "[40, 50, 60, 10, 20, 30]\n"
          ]
        }
      ],
      "source": [
        "#Problem02\n",
        "source = [10,20,30,40,50,60]\n",
        "k = 3\n",
        "\n",
        "def printSource(source):\n",
        "  a = [0] * len(source)\n",
        "  for i in range(0,len(source)):\n",
        "    a[i]= source[i]\n",
        "  print(a)\n",
        "    \n",
        "def rotateLeft(source, k):\n",
        "    for i in range(0, k):\n",
        "        temp = source[0]\n",
        "        for j in range(0, len(source)-1):\n",
        "            source[j] = source[j+1]\n",
        "        source[len(source)-1] = temp\n",
        "    return source\n",
        "    \n",
        "print(\"source Before rotateLeft: \")\n",
        "printSource(source)\n",
        "rotatedsource = rotateLeft(source, k)\n",
        "print(\"\\nsource after rotateLeft: \")\n",
        "printSource(rotatedsource)"
      ]
    },
    {
      "cell_type": "code",
      "execution_count": null,
      "metadata": {
        "colab": {
          "base_uri": "https://localhost:8080/"
        },
        "id": "RAu-IWDRSKTP",
        "outputId": "29c0ec18-4924-47a5-8e44-2e254fcedadb"
      },
      "outputs": [
        {
          "name": "stdout",
          "output_type": "stream",
          "text": [
            "[40, 50, 60, 0, 0, 0]\n"
          ]
        }
      ],
      "source": [
        "#Problem01\n",
        "def shiftLeft(source,k):\n",
        "  temp=k\n",
        "  i=0\n",
        "  while temp<len(source):\n",
        "    source[i]=source[temp]\n",
        "    temp+=1\n",
        "    i+=1\n",
        "  i=0\n",
        "  while i<k:\n",
        "    source[len(source)-1-i]=0\n",
        "    i+=1\n",
        "\n",
        "source=[10,20,30,40,50,60]\n",
        "shiftLeft(source,3)\n",
        "print(source)\n",
        "#TheideawastakenfromBuX"
      ]
    },
    {
      "cell_type": "markdown",
      "metadata": {
        "id": "hb-h9la_fV4f"
      },
      "source": []
    },
    {
      "cell_type": "code",
      "execution_count": null,
      "metadata": {
        "colab": {
          "base_uri": "https://localhost:8080/"
        },
        "id": "6ijrdyc8b-T0",
        "outputId": "2b9a5885-ceca-462e-9420-a5a2ad3fc48f"
      },
      "outputs": [
        {
          "name": "stdout",
          "output_type": "stream",
          "text": [
            "[10, 20, 40, 50, 0, 0, 0]\n"
          ]
        }
      ],
      "source": [
        "#Problem03\n",
        "def remove(source,size,idx):\n",
        "  rdr=idx\n",
        "  while rdr<size-1:\n",
        "    source[rdr]= source[rdr+1]\n",
        "    rdr+=1\n",
        "  source[size-1]=0\n",
        "\n",
        "\n",
        " \n",
        "\n",
        "\n",
        "source=[10,20,30,40,50,0,0]\n",
        "remove(source,5,2)\n",
        "print(source)"
      ]
    },
    {
      "cell_type": "code",
      "execution_count": null,
      "metadata": {
        "colab": {
          "base_uri": "https://localhost:8080/"
        },
        "id": "B3wLIlQfOyxr",
        "outputId": "eabd6118-303f-4b2e-fa8e-1e051932aea0"
      },
      "outputs": [
        {
          "name": "stdout",
          "output_type": "stream",
          "text": [
            "[10, 30, 50, 0, 0, 0, 0, 0, 0]\n"
          ]
        }
      ],
      "source": [
        "#Problem04\n",
        "def removeAll(source,size,element):\n",
        "  j=0\n",
        "  for i in range(len(source)):\n",
        "    if source[i]!= element:\n",
        "      source[j]= source[i]\n",
        "      j+=1\n",
        "      source[size-1]=0\n",
        "  return source\n",
        "source=[10,2,30,2,50,2,2,0,0]\n",
        "removeAll(source,7,2)\n",
        "print(source)"
      ]
    },
    {
      "cell_type": "code",
      "execution_count": null,
      "metadata": {
        "colab": {
          "base_uri": "https://localhost:8080/"
        },
        "id": "u40laJanPMBd",
        "outputId": "9b9b78f4-17ef-4fb7-e503-3a4f08083b07"
      },
      "outputs": [
        {
          "name": "stdout",
          "output_type": "stream",
          "text": [
            "False\n"
          ]
        }
      ],
      "source": [
        "#Problem05\n",
        "def beam_balance(A):\n",
        "  i=0\n",
        "  j=len(A)-1\n",
        "  sum_1=0\n",
        "  sum_2=0\n",
        "  sum_3=0\n",
        "  sum_4=0\n",
        "  for i in range (0,len(A) // 2):\n",
        "      sum_1 += A[i]\n",
        "\n",
        "  for j in range(len(A) // 2,len(A)):\n",
        "      sum_2 += A[j]\n",
        "\n",
        "  for k in range (0,(len(A) // 2)+1):\n",
        "      sum_3 += A[k]\n",
        "\n",
        "  for l in range ((len(A) // 2) + 1,len(A)):\n",
        "      sum_4 += A[l]\n",
        "\n",
        "  if sum_1 == sum_2:\n",
        "      print(True)\n",
        "  elif sum_3 == sum_4:\n",
        "    print(True)\n",
        "  else: \n",
        "    print(False)\n",
        "\n",
        "\n",
        "\n",
        "A=[2,1,1,2,1]\n",
        "beam_balance(A)"
      ]
    },
    {
      "cell_type": "code",
      "execution_count": null,
      "metadata": {
        "colab": {
          "base_uri": "https://localhost:8080/"
        },
        "id": "PAHl-Fk7RLCC",
        "outputId": "d2573ebd-95b0-4a99-c13b-3df85c218fc0"
      },
      "outputs": [
        {
          "name": "stdout",
          "output_type": "stream",
          "text": [
            "[0, 0, 0, 1, 0, 0, 2, 1, 0, 3, 2, 1, 4, 3, 2, 1]\n"
          ]
        }
      ],
      "source": [
        "#Problem06\n",
        "def arrayseries(a):\n",
        "    list=[]\n",
        "    result=0\n",
        "    for i in range(a,0,-1):\n",
        "        for j in range(a,0,-1):\n",
        "            k=a-i+1\n",
        "            if j<=k:\n",
        "                result=j\n",
        "                list.append(result)\n",
        "            else:\n",
        "                result=0\n",
        "                list.append(result)\n",
        "\n",
        "    print(list)\n",
        "arrayseries(4)"
      ]
    },
    {
      "cell_type": "code",
      "execution_count": null,
      "metadata": {
        "colab": {
          "base_uri": "https://localhost:8080/"
        },
        "id": "rUNDtYDQ9rPU",
        "outputId": "a89016f5-ea97-4f4b-b69d-ed5d9d52db87"
      },
      "outputs": [
        {
          "name": "stdout",
          "output_type": "stream",
          "text": [
            "3\n"
          ]
        }
      ],
      "source": [
        "#Problem07\n",
        "def max_bunch_count(A):\n",
        "  rdr=0 \n",
        "  x=1\n",
        "  j=len(A)-1\n",
        "  for i in range(0,j):\n",
        "    if A[i]==A[i+1]:\n",
        "      x+=1\n",
        "    else:\n",
        "      x=1 \n",
        "    \n",
        "    if x>rdr:\n",
        "      rdr = x\n",
        "  print(rdr)\n",
        "\n",
        "A=[1,2,2,3,4,4,4]\n",
        "max_bunch_count(A)\n",
        "      \n",
        "\n",
        "\n"
      ]
    },
    {
      "cell_type": "code",
      "execution_count": null,
      "metadata": {
        "colab": {
          "base_uri": "https://localhost:8080/"
        },
        "id": "KVuHGpHsmc5t",
        "outputId": "07065f6e-4edd-4c50-ffb8-25c0c8973c37"
      },
      "outputs": [
        {
          "data": {
            "text/plain": [
              "False"
            ]
          },
          "execution_count": 42,
          "metadata": {},
          "output_type": "execute_result"
        }
      ],
      "source": [
        "#Problem08\n",
        "def array(A):\n",
        "  x=[0]\n",
        "  y=len(A) * x\n",
        "  r= 100\n",
        "  for i in range(0,len(A)):\n",
        "    count = 1\n",
        "    for j in range((i+1),len(A)):\n",
        "      if A[i]==A[j]:\n",
        "        count+=1\n",
        "        y[j]=r\n",
        "    if y[i]!=r:\n",
        "      y[i]=count\n",
        "  for i in range(0,len(y)):\n",
        "    for j in range(i+1,len(y)):\n",
        "      if y[i]==y[j]:\n",
        "        return True\n",
        "      else:\n",
        "        return False\n",
        "  print(A)\n",
        "\n",
        "A=[3,4,6,3,4,7,4,6,8,6,6]\n",
        "array(A)\n",
        "\n",
        "\n",
        "\n",
        "\n",
        "\n",
        "\n",
        "\n"
      ]
    },
    {
      "cell_type": "code",
      "execution_count": null,
      "metadata": {
        "colab": {
          "base_uri": "https://localhost:8080/"
        },
        "id": "2_FIvVUmbr1E",
        "outputId": "4ba5a891-1b70-479e-d69e-b779d5657ed7"
      },
      "outputs": [
        {
          "name": "stdout",
          "output_type": "stream",
          "text": [
            "True\n"
          ]
        }
      ],
      "source": [
        "#Circular Array 1\n",
        "def palindrome(a,start,size):\n",
        "  k=[0] * size\n",
        "  r=None\n",
        "  for i in range(0,size):\n",
        "      k[i]= a[start]\n",
        "      start=(start+1) % len(a)\n",
        "\n",
        "  y=size//2\n",
        "  for j in range(0,y):\n",
        "    if k[j]==k[y+1]:\n",
        "      r=True\n",
        "      break\n",
        "    else:\n",
        "      r=False\n",
        "    \n",
        "\n",
        "  return r\n",
        "\n",
        "\n",
        "\n",
        "circularArray= [20,10,0,0,0,10,20,30]\n",
        "\n",
        "palindrome(circularArray,5,5)\n",
        "print(palindrome(circularArray,5,5))"
      ]
    },
    {
      "cell_type": "code",
      "execution_count": null,
      "metadata": {
        "colab": {
          "base_uri": "https://localhost:8080/"
        },
        "id": "rnotLzUGNPMa",
        "outputId": "10ec08b7-99ea-4ce1-8051-cd7f4fca50a7"
      },
      "outputs": [
        {
          "name": "stdout",
          "output_type": "stream",
          "text": [
            "[10, 20, 40]\n"
          ]
        }
      ],
      "source": [
        "#Circular Array_2\n",
        "def intersection(x,y,start_x,start_y,size_x,size_y):\n",
        "  index_x=start_x\n",
        "  index_y=start_y\n",
        "  z=[]\n",
        "  for i in range(0,len(x)):\n",
        "    for j in range(0,len(y)):\n",
        "      if x[index_x]==y[index_y] and x[index_x]!=0:\n",
        "        z.append(x[index_x])\n",
        "        break\n",
        "      index_y=(index_y+1)%len(y)\n",
        "      \n",
        "        \n",
        "    index_x=(index_x+1)%len(x)\n",
        "    index_y=start_y\n",
        "  return z\n",
        "\n",
        "x= [40,50,0,0,0,10,20,30]\n",
        "y= [10,20,5,0,0,0,0,0,5,40,15,25]\n",
        "print(intersection(x,y,5,8,5,7))\n",
        "\n",
        "  "
      ]
    },
    {
      "cell_type": "code",
      "execution_count": 19,
      "metadata": {
        "colab": {
          "base_uri": "https://localhost:8080/"
        },
        "id": "hZcxabc3l2t_",
        "outputId": "311516e6-6ac1-49d9-e6bc-5e2a28cddd70"
      },
      "outputs": [
        {
          "name": "stdout",
          "output_type": "stream",
          "text": [
            "Aimee\n"
          ]
        }
      ],
      "source": [
        "#Circular_Array_3\n",
        "def musicalchair(s, x):\n",
        "    n = (len(s) //(2))\n",
        "    i = n\n",
        "    while i<len(s)-1:\n",
        "        if x==3:\n",
        "            s[i]=s[i+1]\n",
        "        i += 1\n",
        "    print(s[len(s)-1])\n",
        "s=[\"Otis\",\"Maeve\",\"Ruby \",\"Eric\",\"Jackson\",\"Adam\",\"Aimee\"]\n",
        "(musicalchair(s,4))"
      ]
    }
  ],
  "metadata": {
    "colab": {
      "collapsed_sections": [],
      "name": "Lab01_20301118",
      "provenance": []
    },
    "kernelspec": {
      "display_name": "Python 3",
      "name": "python3"
    },
    "language_info": {
      "codemirror_mode": {
        "name": "ipython",
        "version": 3
      },
      "file_extension": ".py",
      "mimetype": "text/x-python",
      "name": "python",
      "nbconvert_exporter": "python",
      "pygments_lexer": "ipython3",
      "version": "3.11.4"
    }
  },
  "nbformat": 4,
  "nbformat_minor": 0
}
